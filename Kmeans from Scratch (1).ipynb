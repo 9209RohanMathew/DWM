{
 "cells": [
  {
   "cell_type": "code",
   "execution_count": 1,
   "id": "b34c66ef",
   "metadata": {},
   "outputs": [],
   "source": [
    "import matplotlib.pyplot as plt\n",
    "from matplotlib import style\n",
    "import numpy as np\n",
    "k=2"
   ]
  },
  {
   "cell_type": "code",
   "execution_count": 2,
   "id": "3ae77290",
   "metadata": {},
   "outputs": [],
   "source": [
    "X=[[2,3],[2,4],[8,9],[7,8],[1,2],[8,8],[9,7],[2,2]]\n",
    "Y=np.array(X)"
   ]
  },
  {
   "cell_type": "code",
   "execution_count": 3,
   "id": "9c146898",
   "metadata": {},
   "outputs": [
    {
     "data": {
      "image/png": "[encoded data removed]",
      "text/plain": [
       "<Figure size 432x288 with 1 Axes>"
      ]
     },
     "metadata": {},
     "output_type": "display_data"
    }
   ],
   "source": [
    "style.use('fivethirtyeight')\n",
    "plt.scatter(Y[:, 0], Y[:, 1], alpha=0.3)\n",
    "plt.show()"
   ]
  },
  {
   "cell_type": "code",
   "execution_count": 4,
   "id": "5424e469",
   "metadata": {},
   "outputs": [],
   "source": [
    "def recalculate_clusters(X, centroids, k):\n",
    "    \"\"\" Recalculates the clusters \"\"\"\n",
    "    # Initiate empty clusters\n",
    "    clusters = {}\n",
    "    # Set the range for value of k (number of centroids)\n",
    "    for i in range(k):\n",
    "        clusters[i] = []\n",
    "    # Setting the plot points using dataframe (X) and the vector norm (magnitude/length)\n",
    "    for data in X:\n",
    "        # Set up list of euclidian distance and iterate through\n",
    "        euc_dist = []\n",
    "        for j in range(k):\n",
    "            euc_dist.append(np.linalg.norm(data - centroids[j]))\n",
    "        # Append the cluster of data to the dictionary\n",
    "        clusters[euc_dist.index(min(euc_dist))].append(data)\n",
    "    return clusters    \n",
    " \n",
    "def recalculate_centroids(centroids, clusters, k):\n",
    "    \"\"\" Recalculates the centroid position based on the plot \"\"\" \n",
    "    for i in range(k):\n",
    "        # Finds the average of the cluster at given index\n",
    "        centroids[i] = np.average(clusters[i], axis=0)\n",
    "    return centroids\n",
    "\n",
    "def plot_clusters(centroids, clusters, k):\n",
    "    \"\"\" Plots the clusters with centroid and specified graph attributes \"\"\" \n",
    "    colors = ['red', 'blue' , 'green', 'orange', 'blue', 'gray', 'yellow', 'purple']\n",
    "    plt.figure(figsize = (6, 4))  \n",
    "    area = (20) ** 2\n",
    "    for i in range(k):\n",
    "        for cluster in clusters[i]:\n",
    "            plt.scatter(cluster[0], cluster[1], c=colors[i % k], alpha=0.6)          \n",
    "        plt.scatter(centroids[i][0], centroids[i][1], c='black', s=200)\n",
    "\n",
    "def k_means_clustering(X, centroids={}, k=3, repeats=10):\n",
    "    \"\"\" Calculates full k_means_clustering algorithm \"\"\"\n",
    "    for i in range(k):\n",
    "        # Sets up the centroids based on the data\n",
    "        centroids[i] = X[i]\n",
    "\n",
    "    # Outputs the recalculated clusters and centroids \n",
    "    print(f'First and last of {repeats} iterations')\n",
    "    for i in range(repeats):        \n",
    "        clusters = recalculate_clusters(X, centroids, k)  \n",
    "        centroids = recalculate_centroids(centroids, clusters, k)\n",
    "\n",
    "        # Plot the first and last iteration of k_means given the repeats specified\n",
    "        # Default is 10, so this would output the 1st iteration and the 10th\n",
    "        if i == range(repeats)[-1] or i == range(repeats)[0]:\n",
    "            plot_clusters(centroids, clusters, k)"
   ]
  },
  {
   "cell_type": "code",
   "execution_count": 5,
   "id": "020a5a9a",
   "metadata": {},
   "outputs": [
    {
     "name": "stdout",
     "output_type": "stream",
     "text": [
      "First and last of 10 iterations\n"
     ]
    },
    {
     "data": {
      "image/png": "[encoded data removed]",
      "text/plain": [
       "<Figure size 432x288 with 1 Axes>"
      ]
     },
     "metadata": {},
     "output_type": "display_data"
    },
    {
     "data": {
      "image/png": "[encoded data removed]",
      "text/plain": [
       "<Figure size 432x288 with 1 Axes>"
      ]
     },
     "metadata": {},
     "output_type": "display_data"
    }
   ],
   "source": [
    "k_means_clustering(Y)"
   ]
  },
  {
   "cell_type": "code",
   "execution_count": null,
   "id": "c2d9d253",
   "metadata": {},
   "outputs": [],
   "source": []
  }
 ],
 "metadata": {
  "kernelspec": {
   "display_name": "Python 3 (ipykernel)",
   "language": "python",
   "name": "python3"
  },
  "language_info": {
   "codemirror_mode": {
    "name": "ipython",
    "version": 3
   },
   "file_extension": ".py",
   "mimetype": "text/x-python",
   "name": "python",
   "nbconvert_exporter": "python",
   "pygments_lexer": "ipython3",
   "version": "3.9.7"
  }
 },
 "nbformat": 4,
 "nbformat_minor": 5
}
