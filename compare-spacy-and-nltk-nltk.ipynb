{
 "cells": [
  {
   "cell_type": "code",
   "execution_count": 1,
   "id": "042a011b",
   "metadata": {
    "_cell_guid": "b1076dfc-b9ad-4769-8c92-a6c4dae69d19",
    "_uuid": "8f2839f25d086af736a60e9eeb907d3b93b6e0e5",
    "execution": {
     "iopub.execute_input": "2022-10-30T10:33:38.606077Z",
     "iopub.status.busy": "2022-10-30T10:33:38.605596Z",
     "iopub.status.idle": "2022-10-30T10:33:38.616597Z",
     "shell.execute_reply": "2022-10-30T10:33:38.615201Z"
    },
    "papermill": {
     "duration": 0.018469,
     "end_time": "2022-10-30T10:33:38.618926",
     "exception": false,
     "start_time": "2022-10-30T10:33:38.600457",
     "status": "completed"
    },
    "tags": []
   },
   "outputs": [],
   "source": [
    "# This Python 3 environment comes with many helpful analytics libraries installed\n",
    "# It is defined by the kaggle/python Docker image: https://github.com/kaggle/docker-python\n",
    "# For example, here's several helpful packages to load\n",
    "\n",
    "import numpy as np # linear algebra\n",
    "import pandas as pd # data processing, CSV file I/O (e.g. pd.read_csv)\n",
    "\n",
    "# Input data files are available in the read-only \"../input/\" directory\n",
    "# For example, running this (by clicking run or pressing Shift+Enter) will list all files under the input directory\n",
    "\n",
    "import os\n",
    "for dirname, _, filenames in os.walk('/kaggle/input'):\n",
    "    for filename in filenames:\n",
    "        print(os.path.join(dirname, filename))\n",
    "\n",
    "# You can write up to 20GB to the current directory (/kaggle/working/) that gets preserved as output when you create a version using \"Save & Run All\" \n",
    "# You can also write temporary files to /kaggle/temp/, but they won't be saved outside of the current session"
   ]
  },
  {
   "cell_type": "code",
   "execution_count": 2,
   "id": "b0e94448",
   "metadata": {
    "execution": {
     "iopub.execute_input": "2022-10-30T10:33:38.626458Z",
     "iopub.status.busy": "2022-10-30T10:33:38.626157Z",
     "iopub.status.idle": "2022-10-30T10:33:40.126333Z",
     "shell.execute_reply": "2022-10-30T10:33:40.125167Z"
    },
    "papermill": {
     "duration": 1.506484,
     "end_time": "2022-10-30T10:33:40.128603",
     "exception": false,
     "start_time": "2022-10-30T10:33:38.622119",
     "status": "completed"
    },
    "tags": []
   },
   "outputs": [],
   "source": [
    "import bs4 as bs\n",
    "import urllib.request\n",
    "import re\n",
    "\n",
    "scraped_data = urllib.request.urlopen('https://en.wikipedia.org/wiki/Artificial_intelligence')\n",
    "article = scraped_data.read()\n",
    "\n",
    "parsed_article = bs.BeautifulSoup(article,'lxml')\n",
    "\n",
    "paragraphs = parsed_article.find_all('p')\n",
    "\n",
    "article_text = \"\"\n",
    "\n",
    "for p in paragraphs:\n",
    "    article_text += p.text"
   ]
  },
  {
   "cell_type": "code",
   "execution_count": 3,
   "id": "e46eb33e",
   "metadata": {
    "execution": {
     "iopub.execute_input": "2022-10-30T10:33:40.141763Z",
     "iopub.status.busy": "2022-10-30T10:33:40.141450Z",
     "iopub.status.idle": "2022-10-30T10:33:40.151494Z",
     "shell.execute_reply": "2022-10-30T10:33:40.150388Z"
    },
    "papermill": {
     "duration": 0.018469,
     "end_time": "2022-10-30T10:33:40.153528",
     "exception": false,
     "start_time": "2022-10-30T10:33:40.135059",
     "status": "completed"
    },
    "tags": []
   },
   "outputs": [],
   "source": [
    "article_text = re.sub(r'\\[[0-9]*\\]', ' ', article_text)\n",
    "article_text = re.sub(r'\\s+', ' ', article_text)"
   ]
  },
  {
   "cell_type": "code",
   "execution_count": 4,
   "id": "925d185b",
   "metadata": {
    "execution": {
     "iopub.execute_input": "2022-10-30T10:33:40.161126Z",
     "iopub.status.busy": "2022-10-30T10:33:40.160768Z",
     "iopub.status.idle": "2022-10-30T10:33:40.172426Z",
     "shell.execute_reply": "2022-10-30T10:33:40.171459Z"
    },
    "papermill": {
     "duration": 0.018357,
     "end_time": "2022-10-30T10:33:40.174936",
     "exception": false,
     "start_time": "2022-10-30T10:33:40.156579",
     "status": "completed"
    },
    "tags": []
   },
   "outputs": [],
   "source": [
    "formatted_article_text = re.sub('[^a-zA-Z]', ' ', article_text )\n",
    "formatted_article_text = re.sub(r'\\s+', ' ', formatted_article_text)"
   ]
  },
  {
   "cell_type": "code",
   "execution_count": 5,
   "id": "1b391b47",
   "metadata": {
    "execution": {
     "iopub.execute_input": "2022-10-30T10:33:40.182350Z",
     "iopub.status.busy": "2022-10-30T10:33:40.181944Z",
     "iopub.status.idle": "2022-10-30T10:33:41.941114Z",
     "shell.execute_reply": "2022-10-30T10:33:41.938877Z"
    },
    "papermill": {
     "duration": 1.766209,
     "end_time": "2022-10-30T10:33:41.944117",
     "exception": false,
     "start_time": "2022-10-30T10:33:40.177908",
     "status": "completed"
    },
    "tags": []
   },
   "outputs": [],
   "source": [
    "import nltk"
   ]
  },
  {
   "cell_type": "code",
   "execution_count": 6,
   "id": "7f0ad50d",
   "metadata": {
    "execution": {
     "iopub.execute_input": "2022-10-30T10:33:41.953467Z",
     "iopub.status.busy": "2022-10-30T10:33:41.952121Z",
     "iopub.status.idle": "2022-10-30T10:33:41.988004Z",
     "shell.execute_reply": "2022-10-30T10:33:41.986875Z"
    },
    "papermill": {
     "duration": 0.042664,
     "end_time": "2022-10-30T10:33:41.990681",
     "exception": false,
     "start_time": "2022-10-30T10:33:41.948017",
     "status": "completed"
    },
    "tags": []
   },
   "outputs": [],
   "source": [
    "sentence_list = nltk.sent_tokenize(article_text)"
   ]
  },
  {
   "cell_type": "code",
   "execution_count": 7,
   "id": "fd44a8e9",
   "metadata": {
    "execution": {
     "iopub.execute_input": "2022-10-30T10:33:42.000645Z",
     "iopub.status.busy": "2022-10-30T10:33:41.999789Z",
     "iopub.status.idle": "2022-10-30T10:33:42.066466Z",
     "shell.execute_reply": "2022-10-30T10:33:42.065457Z"
    },
    "papermill": {
     "duration": 0.073986,
     "end_time": "2022-10-30T10:33:42.068607",
     "exception": false,
     "start_time": "2022-10-30T10:33:41.994621",
     "status": "completed"
    },
    "tags": []
   },
   "outputs": [],
   "source": [
    "stopwords = nltk.corpus.stopwords.words('english')\n",
    "\n",
    "word_frequencies = {}\n",
    "for word in nltk.word_tokenize(formatted_article_text):\n",
    "    if word not in stopwords:\n",
    "        if word not in word_frequencies.keys():\n",
    "            word_frequencies[word] = 1\n",
    "        else:\n",
    "            word_frequencies[word] += 1"
   ]
  },
  {
   "cell_type": "code",
   "execution_count": 8,
   "id": "14ab27cd",
   "metadata": {
    "execution": {
     "iopub.execute_input": "2022-10-30T10:33:42.076853Z",
     "iopub.status.busy": "2022-10-30T10:33:42.075919Z",
     "iopub.status.idle": "2022-10-30T10:33:42.082722Z",
     "shell.execute_reply": "2022-10-30T10:33:42.081583Z"
    },
    "papermill": {
     "duration": 0.012879,
     "end_time": "2022-10-30T10:33:42.084500",
     "exception": false,
     "start_time": "2022-10-30T10:33:42.071621",
     "status": "completed"
    },
    "tags": []
   },
   "outputs": [],
   "source": [
    "maximum_frequncy = max(word_frequencies.values())\n",
    "\n",
    "for word in word_frequencies.keys():\n",
    "    word_frequencies[word] = (word_frequencies[word]/maximum_frequncy)"
   ]
  },
  {
   "cell_type": "code",
   "execution_count": 9,
   "id": "d5149f47",
   "metadata": {
    "execution": {
     "iopub.execute_input": "2022-10-30T10:33:42.091969Z",
     "iopub.status.busy": "2022-10-30T10:33:42.091535Z",
     "iopub.status.idle": "2022-10-30T10:33:42.182316Z",
     "shell.execute_reply": "2022-10-30T10:33:42.181035Z"
    },
    "papermill": {
     "duration": 0.097214,
     "end_time": "2022-10-30T10:33:42.184707",
     "exception": false,
     "start_time": "2022-10-30T10:33:42.087493",
     "status": "completed"
    },
    "tags": []
   },
   "outputs": [],
   "source": [
    "sentence_scores = {}\n",
    "for sent in sentence_list:\n",
    "    for word in nltk.word_tokenize(sent.lower()):\n",
    "        if word in word_frequencies.keys():\n",
    "            if len(sent.split(' ')) < 30:\n",
    "                if sent not in sentence_scores.keys():\n",
    "                    sentence_scores[sent] = word_frequencies[word]\n",
    "                else:\n",
    "                    sentence_scores[sent] += word_frequencies[word]"
   ]
  },
  {
   "cell_type": "code",
   "execution_count": 10,
   "id": "19c3bd79",
   "metadata": {
    "execution": {
     "iopub.execute_input": "2022-10-30T10:33:42.192240Z",
     "iopub.status.busy": "2022-10-30T10:33:42.191947Z",
     "iopub.status.idle": "2022-10-30T10:33:42.202043Z",
     "shell.execute_reply": "2022-10-30T10:33:42.200510Z"
    },
    "papermill": {
     "duration": 0.016121,
     "end_time": "2022-10-30T10:33:42.203955",
     "exception": false,
     "start_time": "2022-10-30T10:33:42.187834",
     "status": "completed"
    },
    "tags": []
   },
   "outputs": [
    {
     "data": {
      "text/plain": [
       "[' Artificial intelligence (AI) is intelligence demonstrated by machines, as opposed to the natural intelligence displayed by animals and humans.',\n",
       " 'The artificial intelligence algorithms will also be used to further improve diagnosis over time, via an application of machine learning called precision medicine.',\n",
       " 'A machine with general intelligence can solve a wide variety of problems with breadth and versatility similar to human intelligence.',\n",
       " 'Deep learning has drastically improved the performance of programs in many important subfields of artificial intelligence, including computer vision, speech recognition, image classification and others.',\n",
       " 'AI founder John McCarthy agreed, writing that \"Artificial intelligence is not, by definition, simulation of human intelligence\".',\n",
       " 'A superintelligence, hyperintelligence, or superhuman intelligence, is a hypothetical agent that would possess intelligence far surpassing that of the brightest and most gifted human mind.',\n",
       " 'The main agenda for these scientific diplomacy efforts is to bolster research on artificial intelligence and how it can be utilized in cybersecurity research, development, and overall consumer trust.']"
      ]
     },
     "execution_count": 10,
     "metadata": {},
     "output_type": "execute_result"
    }
   ],
   "source": [
    "from heapq import nlargest\n",
    "select_length=7\n",
    "\n",
    "summary=nlargest(select_length, sentence_scores,key=sentence_scores.get)\n",
    "summary"
   ]
  },
  {
   "cell_type": "code",
   "execution_count": null,
   "id": "ea65d83b",
   "metadata": {
    "papermill": {
     "duration": 0.002763,
     "end_time": "2022-10-30T10:33:42.209847",
     "exception": false,
     "start_time": "2022-10-30T10:33:42.207084",
     "status": "completed"
    },
    "tags": []
   },
   "outputs": [],
   "source": []
  }
 ],
 "metadata": {
  "kernelspec": {
   "display_name": "Python 3",
   "language": "python",
   "name": "python3"
  },
  "language_info": {
   "codemirror_mode": {
    "name": "ipython",
    "version": 3
   },
   "file_extension": ".py",
   "mimetype": "text/x-python",
   "name": "python",
   "nbconvert_exporter": "python",
   "pygments_lexer": "ipython3",
   "version": "3.7.12"
  },
  "papermill": {
   "default_parameters": {},
   "duration": 11.6679,
   "end_time": "2022-10-30T10:33:42.934193",
   "environment_variables": {},
   "exception": null,
   "input_path": "__notebook__.ipynb",
   "output_path": "__notebook__.ipynb",
   "parameters": {},
   "start_time": "2022-10-30T10:33:31.266293",
   "version": "2.3.4"
  }
 },
 "nbformat": 4,
 "nbformat_minor": 5
}
