{
 "cells": [
  {
   "cell_type": "code",
   "execution_count": 1,
   "id": "fed712cf",
   "metadata": {},
   "outputs": [],
   "source": [
    "#dataset converted to integers using above notations\n",
    "dataset = [\n",
    "           [0,0,1,0,0],\n",
    "           [0,0,1,1,0],\n",
    "           [1,0,1,0,1],\n",
    "           [2,1,1,0,1],\n",
    "           [2,2,0,0,1],\n",
    "           [2,2,0,1,0],\n",
    "           [1,2,0,1,1],\n",
    "           [0,1,1,0,0],\n",
    "           [0,2,0,0,1],\n",
    "           [2,1,0,0,1],\n",
    "           [0,1,0,1,1],\n",
    "           [1,1,1,1,1],\n",
    "           [1,0,0,0,1],\n",
    "           [2,1,1,1,0]\n",
    "           ]"
   ]
  },
  {
   "cell_type": "code",
   "execution_count": 2,
   "id": "9989a47f",
   "metadata": {},
   "outputs": [
    {
     "name": "stdout",
     "output_type": "stream",
     "text": [
      "0\n",
      "[0, 0, 1, 0, 0]\n",
      "[0, 0, 1, 1, 0]\n",
      "[2, 2, 0, 1, 0]\n",
      "[0, 1, 1, 0, 0]\n",
      "[2, 1, 1, 1, 0]\n",
      "1\n",
      "[1, 0, 1, 0, 1]\n",
      "[2, 1, 1, 0, 1]\n",
      "[2, 2, 0, 0, 1]\n",
      "[1, 2, 0, 1, 1]\n",
      "[0, 2, 0, 0, 1]\n",
      "[2, 1, 0, 0, 1]\n",
      "[0, 1, 0, 1, 1]\n",
      "[1, 1, 1, 1, 1]\n",
      "[1, 0, 0, 0, 1]\n"
     ]
    }
   ],
   "source": [
    "mp = dict()\n",
    "for i in range(len(dataset)):\n",
    "    row = dataset[i]\n",
    "    y = row[-1]\n",
    "    if (y not in mp):\n",
    "        mp[y] = list()\n",
    "    mp[y].append(row)\n",
    "for label in mp:\n",
    "    print(label)\n",
    "    for row in mp[label]:\n",
    "        print(row)"
   ]
  },
  {
   "cell_type": "code",
   "execution_count": 3,
   "id": "d8f8e338",
   "metadata": {},
   "outputs": [],
   "source": [
    "test = [2,1,0,1]"
   ]
  },
  {
   "cell_type": "code",
   "execution_count": 4,
   "id": "7932d69d",
   "metadata": {},
   "outputs": [
    {
     "name": "stdout",
     "output_type": "stream",
     "text": [
      "Total yes: 9 / 14\n",
      "for feature 1\n",
      "3 / 9\n",
      "for feature 2\n",
      "4 / 9\n",
      "for feature 3\n",
      "6 / 9\n",
      "for feature 4\n",
      "3 / 9\n",
      "Total no: 5 / 14\n",
      "for feature 1\n",
      "2 / 5\n",
      "for feature 2\n",
      "2 / 5\n",
      "for feature 3\n",
      "1 / 5\n",
      "for feature 4\n",
      "3 / 5\n"
     ]
    }
   ],
   "source": [
    "probYes = 1\n",
    "\n",
    "count = 0\n",
    "total = 0\n",
    "for row in dataset:\n",
    "    if(row[-1] == 1):\n",
    "        count+=1\n",
    "    total+=1\n",
    "print(\"Total yes: \"+str(count)+\" / \"+str(total))\n",
    "probYes *= count/total\n",
    "for i in range(len(test)):\n",
    "    count = 0\n",
    "    total = 0\n",
    "    for row in mp[1]:\n",
    "        if(test[i] == row[i]):\n",
    "            count += 1\n",
    "        total += 1\n",
    "    print('for feature '+str(i+1))\n",
    "    print(str(count)+\" / \"+str(total))\n",
    "    probYes *= count/total\n",
    "\n",
    "probNo = 1\n",
    "count = 0\n",
    "total = 0\n",
    "for row in dataset:\n",
    "    if(row[-1] == 0):\n",
    "        count+=1\n",
    "    total+=1\n",
    "probNo *= count/total\n",
    "print(\"Total no: \"+str(count)+\" / \"+str(total))\n",
    "for i in range(len(test)):\n",
    "    count = 0\n",
    "    total = 0\n",
    "    for row in mp[0]:\n",
    "        if(test[i] == row[i]):\n",
    "            count += 1\n",
    "        total += 1\n",
    "    print('for feature '+str(i+1))\n",
    "    print(str(count)+\" / \"+str(total))\n",
    "    probNo *= count/total"
   ]
  },
  {
   "cell_type": "code",
   "execution_count": 5,
   "id": "7be0861e",
   "metadata": {},
   "outputs": [
    {
     "name": "stdout",
     "output_type": "stream",
     "text": [
      "0.021164021164021163\n",
      "0.006857142857142859\n"
     ]
    }
   ],
   "source": [
    "print(probYes)\n",
    "print(probNo)"
   ]
  },
  {
   "cell_type": "code",
   "execution_count": 6,
   "id": "334f4b2e",
   "metadata": {},
   "outputs": [
    {
     "name": "stdout",
     "output_type": "stream",
     "text": [
      "Probability of playing golf: 75.5287009063444%\n"
     ]
    }
   ],
   "source": [
    "prob = probYes/(probYes+probNo)\n",
    "print(\"Probability of playing golf: \"+str(prob*100)+\"%\")"
   ]
  },
  {
   "cell_type": "code",
   "execution_count": null,
   "id": "233ce21c",
   "metadata": {},
   "outputs": [],
   "source": []
  }
 ],
 "metadata": {
  "kernelspec": {
   "display_name": "Python 3 (ipykernel)",
   "language": "python",
   "name": "python3"
  },
  "language_info": {
   "codemirror_mode": {
    "name": "ipython",
    "version": 3
   },
   "file_extension": ".py",
   "mimetype": "text/x-python",
   "name": "python",
   "nbconvert_exporter": "python",
   "pygments_lexer": "ipython3",
   "version": "3.9.7"
  }
 },
 "nbformat": 4,
 "nbformat_minor": 5
}
